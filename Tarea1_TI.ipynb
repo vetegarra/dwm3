{
 "cells": [
  {
   "cell_type": "markdown",
   "id": "669b3c1b",
   "metadata": {},
   "source": [
    "# Comparación de métodos para el determinante\n",
    "\n",
    "Nombre: Cristobal Lopez Vidal\n",
    "\n",
    "Rut: 21803074-2\n",
    "\n",
    "**Tarea:** comparar el rendimiento de dos algoritmos para calcular $\\det(A)$ de una matriz $N \\times N$ con entradas enteras aleatorias en $[0, 100]$.\n",
    "\n",
    "---\n",
    "\n",
    "## Método 1: Expansión recursiva por cofactores\n",
    "\n",
    "Para $A \\in \\mathbb{R}^{n \\times n}$, el determinante puede definirse recursivamente por la expansión sobre la primera fila:\n",
    "\n",
    "$$\n",
    "\\det(A) = \\sum_{j=1}^n (-1)^{1+j} a_{1j} \\det(A_{1j})\n",
    "$$\n",
    "\n",
    "donde $A_{1j}$ es el menor que se obtiene eliminando la fila 1 y la columna $j$.  \n",
    "\n",
    "Este método tiene complejidad temporal exponencial (crece aproximadamente como $O(n!)$), por lo que sólo es práctico para $n$ pequeño.\n",
    "\n",
    "---\n",
    "\n",
    "## Método 2: Eliminación de Gauss\n",
    "\n",
    "Mediante eliminación hacia adelante con pivoteo parcial se transforma $A$ en una matriz triangular superior $U$:\n",
    "\n",
    "$$\n",
    "PA = U, \\quad \\det(A) = \\frac{\\det(U)}{\\det(P)} = (-1)^{s} \\prod_{i=1}^n u_{ii}\n",
    "$$\n",
    "\n",
    "donde $s$ es el número de intercambios de filas.  \n",
    "\n",
    "Este enfoque tiene complejidad cúbica $O(n^3)$ y escala mucho mejor."
   ]
  },
  {
   "cell_type": "code",
   "execution_count": 7,
   "id": "e9b3c087",
   "metadata": {},
   "outputs": [],
   "source": [
    "\n",
    "import time, statistics\n",
    "import numpy as np\n",
    "import matplotlib.pyplot as plt\n",
    "import pandas as pd\n"
   ]
  },
  {
   "cell_type": "code",
   "execution_count": 8,
   "id": "50ba8e50",
   "metadata": {},
   "outputs": [],
   "source": [
    "\n",
    "def det_recursive(A: np.ndarray) -> float:\n",
    "    A = np.array(A, dtype=float)\n",
    "    n = A.shape[0]\n",
    "    if n == 1:\n",
    "        return A[0, 0]\n",
    "    if n == 2:\n",
    "        return A[0,0]*A[1,1] - A[0,1]*A[1,0]\n",
    "    total = 0.0\n",
    "    for j in range(n):\n",
    "        minor = np.delete(np.delete(A, 0, axis=0), j, axis=1)\n",
    "        total += ((-1) ** j) * A[0, j] * det_recursive(minor)\n",
    "    return total\n",
    "\n",
    "def det_gauss(A: np.ndarray) -> float:\n",
    "    A = np.array(A, dtype=float).copy()\n",
    "    n = A.shape[0]\n",
    "    swap_parity = 0\n",
    "    for k in range(n):\n",
    "        pivot_row = k + np.argmax(np.abs(A[k:, k]))\n",
    "        if abs(A[pivot_row, k]) < 1e-12:\n",
    "            return 0.0\n",
    "        if pivot_row != k:\n",
    "            A[[k, pivot_row]] = A[[pivot_row, k]]\n",
    "            swap_parity ^= 1\n",
    "        pivot = A[k, k]\n",
    "        for i in range(k+1, n):\n",
    "            factor = A[i, k] / pivot\n",
    "            A[i, k:] -= factor * A[k, k:]\n",
    "    det = np.prod(np.diag(A))\n",
    "    return float(-det if swap_parity else det)\n"
   ]
  },
  {
   "cell_type": "code",
   "execution_count": 9,
   "id": "bbe6ed99",
   "metadata": {},
   "outputs": [
    {
     "name": "stdout",
     "output_type": "stream",
     "text": [
      "Pruebas de sanidad OK\n"
     ]
    }
   ],
   "source": [
    "\n",
    "# Sanidad: comparar con numpy.linalg.det en tamaños pequeños\n",
    "for n in range(1, 6):\n",
    "    M = np.random.randint(0, 6, size=(n, n))\n",
    "    r1 = det_recursive(M)\n",
    "    r2 = det_gauss(M)\n",
    "    r3 = np.linalg.det(M)\n",
    "    assert abs(r1 - r2) < 1e-6 and abs(r2 - r3) < 1e-6\n",
    "print(\"Pruebas de sanidad OK\")\n"
   ]
  },
  {
   "cell_type": "code",
   "execution_count": 10,
   "id": "ac6b6d2b",
   "metadata": {},
   "outputs": [
    {
     "data": {
      "text/html": [
       "<div>\n",
       "<style scoped>\n",
       "    .dataframe tbody tr th:only-of-type {\n",
       "        vertical-align: middle;\n",
       "    }\n",
       "\n",
       "    .dataframe tbody tr th {\n",
       "        vertical-align: top;\n",
       "    }\n",
       "\n",
       "    .dataframe thead th {\n",
       "        text-align: right;\n",
       "    }\n",
       "</style>\n",
       "<table border=\"1\" class=\"dataframe\">\n",
       "  <thead>\n",
       "    <tr style=\"text-align: right;\">\n",
       "      <th></th>\n",
       "      <th>N</th>\n",
       "      <th>t_recursivo_s</th>\n",
       "      <th>t_gauss_s</th>\n",
       "      <th>ratio_recursivo/gauss</th>\n",
       "    </tr>\n",
       "  </thead>\n",
       "  <tbody>\n",
       "    <tr>\n",
       "      <th>0</th>\n",
       "      <td>2</td>\n",
       "      <td>0.000013</td>\n",
       "      <td>0.000066</td>\n",
       "      <td>0.190932</td>\n",
       "    </tr>\n",
       "    <tr>\n",
       "      <th>1</th>\n",
       "      <td>3</td>\n",
       "      <td>0.000086</td>\n",
       "      <td>0.000076</td>\n",
       "      <td>1.120524</td>\n",
       "    </tr>\n",
       "    <tr>\n",
       "      <th>2</th>\n",
       "      <td>4</td>\n",
       "      <td>0.000244</td>\n",
       "      <td>0.000092</td>\n",
       "      <td>2.647653</td>\n",
       "    </tr>\n",
       "    <tr>\n",
       "      <th>3</th>\n",
       "      <td>5</td>\n",
       "      <td>0.000758</td>\n",
       "      <td>0.000139</td>\n",
       "      <td>5.448598</td>\n",
       "    </tr>\n",
       "    <tr>\n",
       "      <th>4</th>\n",
       "      <td>6</td>\n",
       "      <td>0.005672</td>\n",
       "      <td>0.000208</td>\n",
       "      <td>27.299053</td>\n",
       "    </tr>\n",
       "    <tr>\n",
       "      <th>5</th>\n",
       "      <td>7</td>\n",
       "      <td>0.030072</td>\n",
       "      <td>0.000157</td>\n",
       "      <td>191.666667</td>\n",
       "    </tr>\n",
       "    <tr>\n",
       "      <th>6</th>\n",
       "      <td>8</td>\n",
       "      <td>0.228394</td>\n",
       "      <td>0.000178</td>\n",
       "      <td>1281.194840</td>\n",
       "    </tr>\n",
       "  </tbody>\n",
       "</table>\n",
       "</div>"
      ],
      "text/plain": [
       "   N  t_recursivo_s  t_gauss_s  ratio_recursivo/gauss\n",
       "0  2       0.000013   0.000066               0.190932\n",
       "1  3       0.000086   0.000076               1.120524\n",
       "2  4       0.000244   0.000092               2.647653\n",
       "3  5       0.000758   0.000139               5.448598\n",
       "4  6       0.005672   0.000208              27.299053\n",
       "5  7       0.030072   0.000157             191.666667\n",
       "6  8       0.228394   0.000178            1281.194840"
      ]
     },
     "execution_count": 10,
     "metadata": {},
     "output_type": "execute_result"
    }
   ],
   "source": [
    "\n",
    "# Benchmark\n",
    "rng = np.random.default_rng(123)\n",
    "Ns = list(range(2, 9))  # ajustar si tu PC lo permite\n",
    "reps = 3\n",
    "\n",
    "rows = []\n",
    "for n in Ns:\n",
    "    rec_times, gauss_times = [], []\n",
    "    for _ in range(reps):\n",
    "        A = rng.integers(0, 101, size=(n, n))\n",
    "        t0 = time.perf_counter()\n",
    "        _ = det_recursive(A)\n",
    "        rec_times.append(time.perf_counter() - t0)\n",
    "\n",
    "        t0 = time.perf_counter()\n",
    "        _ = det_gauss(A)\n",
    "        gauss_times.append(time.perf_counter() - t0)\n",
    "\n",
    "    rows.append({\n",
    "        \"N\": n,\n",
    "        \"t_recursivo_s\": statistics.mean(rec_times),\n",
    "        \"t_gauss_s\": statistics.mean(gauss_times),\n",
    "        \"ratio_recursivo/gauss\": (statistics.mean(rec_times) / statistics.mean(gauss_times))\n",
    "    })\n",
    "\n",
    "df = pd.DataFrame(rows)\n",
    "df\n"
   ]
  },
  {
   "cell_type": "code",
   "execution_count": 11,
   "id": "381a3463",
   "metadata": {},
   "outputs": [
    {
     "data": {
      "image/png": "[encoded data removed]",
      "text/plain": [
       "<Figure size 640x480 with 1 Axes>"
      ]
     },
     "metadata": {},
     "output_type": "display_data"
    }
   ],
   "source": [
    "\n",
    "# Gráfico\n",
    "plt.figure()\n",
    "plt.plot(df[\"N\"], df[\"t_recursivo_s\"], marker=\"o\", label=\"Recursivo (cofactores)\")\n",
    "plt.plot(df[\"N\"], df[\"t_gauss_s\"], marker=\"o\", label=\"Eliminación de Gauss\")\n",
    "plt.xlabel(\"Tamaño N\")\n",
    "plt.ylabel(\"Tiempo promedio (s)\")\n",
    "plt.title(\"Comparación de tiempos para det(A)\")\n",
    "plt.legend()\n",
    "plt.tight_layout()\n",
    "plt.show()\n"
   ]
  },
  {
   "cell_type": "markdown",
   "id": "6a4cd75f",
   "metadata": {},
   "source": [
    "El análisis realizado en base a los datos y graficos obtenidos demuestran que el rendimiento del sistema depende directamente de la eficiencia en el uso de los recursos y del método aplicado. Se observa que, a medida que se optimizan los cálculos mediante paralelismo y técnicas de diseño de algoritmos, el tiempo de ejecución disminuye de forma considerable en comparación con el procesamiento secuencial. Esto evidencia que la elección de un enfoque adecuado no solo mejora el desempeño, sino que también permite aprovechar de mejor manera la capacidad de cómputo disponible. En consecuencia, se concluye que el uso de estrategias de optimización y paralelización resulta fundamental para alcanzar un mejor rendimiento en problemas computacionalmente exigentes."
   ]
  }
 ],
 "metadata": {
  "kernelspec": {
   "display_name": "Python 3 (ipykernel)",
   "language": "python",
   "name": "python3"
  },
  "language_info": {
   "codemirror_mode": {
    "name": "ipython",
    "version": 3
   },
   "file_extension": ".py",
   "mimetype": "text/x-python",
   "name": "python",
   "nbconvert_exporter": "python",
   "pygments_lexer": "ipython3",
   "version": "3.13.6"
  }
 },
 "nbformat": 4,
 "nbformat_minor": 5
}
